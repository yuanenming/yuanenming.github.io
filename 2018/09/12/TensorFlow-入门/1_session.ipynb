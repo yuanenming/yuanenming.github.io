{
 "cells": [
  {
   "cell_type": "code",
   "execution_count": 1,
   "metadata": {},
   "outputs": [
    {
     "name": "stdout",
     "output_type": "stream",
     "text": [
      "Tensor(\"MatMul:0\", shape=(1, 1), dtype=int32)\n",
      "[[12]]\n",
      "[[12]]\n"
     ]
    }
   ],
   "source": [
    "import tensorflow as tf\n",
    "\n",
    "m1 = tf.constant([[2, 2]])\n",
    "m2 = tf.constant([[3],\n",
    "                  [3]])\n",
    "dot_operation = tf.matmul(m1, m2)\n",
    "\n",
    "print(dot_operation)  # wrong! no result\n",
    "\n",
    "# method1 use session\n",
    "sess = tf.Session()\n",
    "result = sess.run(dot_operation)\n",
    "print(result)\n",
    "sess.close()\n",
    "\n",
    "# method2 use session\n",
    "with tf.Session() as sess:\n",
    "    result_ = sess.run(dot_operation)\n",
    "    print(result_)"
   ]
  },
  {
   "cell_type": "code",
   "execution_count": null,
   "metadata": {},
   "outputs": [],
   "source": []
  }
 ],
 "metadata": {
  "kernelspec": {
   "display_name": "Python 3",
   "language": "python",
   "name": "python3"
  },
  "language_info": {
   "codemirror_mode": {
    "name": "ipython",
    "version": 3
   },
   "file_extension": ".py",
   "mimetype": "text/x-python",
   "name": "python",
   "nbconvert_exporter": "python",
   "pygments_lexer": "ipython3",
   "version": "3.6.5"
  }
 },
 "nbformat": 4,
 "nbformat_minor": 2
}
